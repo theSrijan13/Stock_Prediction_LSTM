{
 "cells": [
  {
   "cell_type": "markdown",
   "id": "1130e626",
   "metadata": {},
   "source": [
    "import numpy as np\n",
    "import pandas as pd\n",
    "import matplotlib.pyplot as plt"
   ]
  },
  {
   "cell_type": "code",
   "execution_count": 2,
   "id": "89511604",
   "metadata": {},
   "outputs": [],
   "source": [
    "url = 'https://raw.githubusercontent.com/mwitiderrick/stockprice/master/NSE-TATAGLOBAL.csv'\n",
    "dataset_train = pd.read_csv(url)\n",
    "training_set = dataset_train.iloc[:, 1:2].values"
   ]
  },
  {
   "cell_type": "code",
   "execution_count": 3,
   "id": "dcd26e9e",
   "metadata": {},
   "outputs": [
    {
     "data": {
      "text/html": [
       "<div>\n",
       "<style scoped>\n",
       "    .dataframe tbody tr th:only-of-type {\n",
       "        vertical-align: middle;\n",
       "    }\n",
       "\n",
       "    .dataframe tbody tr th {\n",
       "        vertical-align: top;\n",
       "    }\n",
       "\n",
       "    .dataframe thead th {\n",
       "        text-align: right;\n",
       "    }\n",
       "</style>\n",
       "<table border=\"1\" class=\"dataframe\">\n",
       "  <thead>\n",
       "    <tr style=\"text-align: right;\">\n",
       "      <th></th>\n",
       "      <th>Date</th>\n",
       "      <th>Open</th>\n",
       "      <th>High</th>\n",
       "      <th>Low</th>\n",
       "      <th>Last</th>\n",
       "      <th>Close</th>\n",
       "      <th>Total Trade Quantity</th>\n",
       "      <th>Turnover (Lacs)</th>\n",
       "    </tr>\n",
       "  </thead>\n",
       "  <tbody>\n",
       "    <tr>\n",
       "      <th>0</th>\n",
       "      <td>2018-09-28</td>\n",
       "      <td>234.05</td>\n",
       "      <td>235.95</td>\n",
       "      <td>230.20</td>\n",
       "      <td>233.50</td>\n",
       "      <td>233.75</td>\n",
       "      <td>3069914</td>\n",
       "      <td>7162.35</td>\n",
       "    </tr>\n",
       "    <tr>\n",
       "      <th>1</th>\n",
       "      <td>2018-09-27</td>\n",
       "      <td>234.55</td>\n",
       "      <td>236.80</td>\n",
       "      <td>231.10</td>\n",
       "      <td>233.80</td>\n",
       "      <td>233.25</td>\n",
       "      <td>5082859</td>\n",
       "      <td>11859.95</td>\n",
       "    </tr>\n",
       "    <tr>\n",
       "      <th>2</th>\n",
       "      <td>2018-09-26</td>\n",
       "      <td>240.00</td>\n",
       "      <td>240.00</td>\n",
       "      <td>232.50</td>\n",
       "      <td>235.00</td>\n",
       "      <td>234.25</td>\n",
       "      <td>2240909</td>\n",
       "      <td>5248.60</td>\n",
       "    </tr>\n",
       "    <tr>\n",
       "      <th>3</th>\n",
       "      <td>2018-09-25</td>\n",
       "      <td>233.30</td>\n",
       "      <td>236.75</td>\n",
       "      <td>232.00</td>\n",
       "      <td>236.25</td>\n",
       "      <td>236.10</td>\n",
       "      <td>2349368</td>\n",
       "      <td>5503.90</td>\n",
       "    </tr>\n",
       "    <tr>\n",
       "      <th>4</th>\n",
       "      <td>2018-09-24</td>\n",
       "      <td>233.55</td>\n",
       "      <td>239.20</td>\n",
       "      <td>230.75</td>\n",
       "      <td>234.00</td>\n",
       "      <td>233.30</td>\n",
       "      <td>3423509</td>\n",
       "      <td>7999.55</td>\n",
       "    </tr>\n",
       "  </tbody>\n",
       "</table>\n",
       "</div>"
      ],
      "text/plain": [
       "         Date    Open    High     Low    Last   Close  Total Trade Quantity  \\\n",
       "0  2018-09-28  234.05  235.95  230.20  233.50  233.75               3069914   \n",
       "1  2018-09-27  234.55  236.80  231.10  233.80  233.25               5082859   \n",
       "2  2018-09-26  240.00  240.00  232.50  235.00  234.25               2240909   \n",
       "3  2018-09-25  233.30  236.75  232.00  236.25  236.10               2349368   \n",
       "4  2018-09-24  233.55  239.20  230.75  234.00  233.30               3423509   \n",
       "\n",
       "   Turnover (Lacs)  \n",
       "0          7162.35  \n",
       "1         11859.95  \n",
       "2          5248.60  \n",
       "3          5503.90  \n",
       "4          7999.55  "
      ]
     },
     "execution_count": 3,
     "metadata": {},
     "output_type": "execute_result"
    }
   ],
   "source": [
    "dataset_train.head()"
   ]
  },
  {
   "cell_type": "markdown",
   "id": "7782aa23",
   "metadata": {},
   "source": [
    "## Data Normalization"
   ]
  },
  {
   "cell_type": "code",
   "execution_count": 5,
   "id": "701897f8",
   "metadata": {},
   "outputs": [],
   "source": [
    "from sklearn.preprocessing import MinMaxScaler\n",
    "sc = MinMaxScaler(feature_range=(0,1))\n",
    "training_set_scaled = sc.fit_transform(training_set)"
   ]
  },
  {
   "cell_type": "markdown",
   "id": "36b45247",
   "metadata": {},
   "source": [
    "## Incorporating Timesteps Into Data"
   ]
  },
  {
   "cell_type": "code",
   "execution_count": 16,
   "id": "0a64a97e",
   "metadata": {},
   "outputs": [],
   "source": [
    "X_train = []\n",
    "y_train = []\n",
    "\n",
    "for i in range(60, 2035):\n",
    "    X_train.append(training_set_scaled[i-60:i, 0])\n",
    "    y_train.append(training_set_scaled[i, 0])\n",
    "\n",
    "X_train, y_train = np.array(X_train), np.array(y_train)\n",
    "X_train = np.reshape(X_train, (X_train.shape[0], X_train.shape[1], 1))\n"
   ]
  },
  {
   "cell_type": "markdown",
   "id": "ddfd6f77",
   "metadata": {},
   "source": [
    "## Creating the LSTM Model"
   ]
  },
  {
   "cell_type": "code",
   "execution_count": 17,
   "id": "a6224901",
   "metadata": {},
   "outputs": [],
   "source": [
    "from keras.models import Sequential\n",
    "from keras.layers import LSTM\n",
    "from keras.layers import Dropout\n",
    "from keras.layers import Dense"
   ]
  },
  {
   "cell_type": "code",
   "execution_count": 18,
   "id": "a584f3fa",
   "metadata": {},
   "outputs": [
    {
     "name": "stdout",
     "output_type": "stream",
     "text": [
      "Epoch 1/100\n",
      "62/62 [==============================] - 11s 77ms/step - loss: 0.0101\n",
      "Epoch 2/100\n",
      "62/62 [==============================] - 5s 75ms/step - loss: 0.0029\n",
      "Epoch 3/100\n",
      "62/62 [==============================] - 5s 76ms/step - loss: 0.0027\n",
      "Epoch 4/100\n",
      "62/62 [==============================] - 5s 76ms/step - loss: 0.0027\n",
      "Epoch 5/100\n",
      "62/62 [==============================] - 5s 77ms/step - loss: 0.0029\n",
      "Epoch 6/100\n",
      "62/62 [==============================] - 5s 77ms/step - loss: 0.0028\n",
      "Epoch 7/100\n",
      "62/62 [==============================] - 5s 76ms/step - loss: 0.0026\n",
      "Epoch 8/100\n",
      "62/62 [==============================] - 5s 76ms/step - loss: 0.0020\n",
      "Epoch 9/100\n",
      "62/62 [==============================] - 5s 77ms/step - loss: 0.0022\n",
      "Epoch 10/100\n",
      "62/62 [==============================] - 5s 76ms/step - loss: 0.0018\n",
      "Epoch 11/100\n",
      "62/62 [==============================] - 5s 78ms/step - loss: 0.0019\n",
      "Epoch 12/100\n",
      "62/62 [==============================] - 5s 77ms/step - loss: 0.0020\n",
      "Epoch 13/100\n",
      "62/62 [==============================] - 5s 78ms/step - loss: 0.0020\n",
      "Epoch 14/100\n",
      "62/62 [==============================] - 5s 78ms/step - loss: 0.0018\n",
      "Epoch 15/100\n",
      "62/62 [==============================] - 5s 80ms/step - loss: 0.0016\n",
      "Epoch 16/100\n",
      "62/62 [==============================] - 5s 78ms/step - loss: 0.0015\n",
      "Epoch 17/100\n",
      "62/62 [==============================] - 5s 78ms/step - loss: 0.0015\n",
      "Epoch 18/100\n",
      "62/62 [==============================] - 5s 78ms/step - loss: 0.0015\n",
      "Epoch 19/100\n",
      "62/62 [==============================] - 5s 78ms/step - loss: 0.0015\n",
      "Epoch 20/100\n",
      "62/62 [==============================] - 5s 78ms/step - loss: 0.0015\n",
      "Epoch 21/100\n",
      "62/62 [==============================] - 5s 79ms/step - loss: 0.0013\n",
      "Epoch 22/100\n",
      "62/62 [==============================] - 5s 78ms/step - loss: 0.0014\n",
      "Epoch 23/100\n",
      "62/62 [==============================] - 5s 78ms/step - loss: 0.0013\n",
      "Epoch 24/100\n",
      "62/62 [==============================] - 5s 79ms/step - loss: 0.0015\n",
      "Epoch 25/100\n",
      "62/62 [==============================] - 5s 82ms/step - loss: 0.0013\n",
      "Epoch 26/100\n",
      "62/62 [==============================] - 5s 79ms/step - loss: 0.0013\n",
      "Epoch 27/100\n",
      "62/62 [==============================] - 5s 78ms/step - loss: 0.0011\n",
      "Epoch 28/100\n",
      "62/62 [==============================] - 5s 80ms/step - loss: 0.0012\n",
      "Epoch 29/100\n",
      "62/62 [==============================] - 5s 79ms/step - loss: 0.0011\n",
      "Epoch 30/100\n",
      "62/62 [==============================] - 5s 79ms/step - loss: 0.0011\n",
      "Epoch 31/100\n",
      "62/62 [==============================] - 5s 80ms/step - loss: 0.0011\n",
      "Epoch 32/100\n",
      "62/62 [==============================] - 5s 79ms/step - loss: 0.0010\n",
      "Epoch 33/100\n",
      "62/62 [==============================] - 5s 79ms/step - loss: 0.0011\n",
      "Epoch 34/100\n",
      "62/62 [==============================] - 5s 79ms/step - loss: 9.8729e-04\n",
      "Epoch 35/100\n",
      "62/62 [==============================] - 5s 79ms/step - loss: 9.3648e-04\n",
      "Epoch 36/100\n",
      "62/62 [==============================] - 5s 83ms/step - loss: 9.6323e-04\n",
      "Epoch 37/100\n",
      "62/62 [==============================] - 5s 80ms/step - loss: 9.9836e-04\n",
      "Epoch 38/100\n",
      "62/62 [==============================] - 5s 81ms/step - loss: 0.0010\n",
      "Epoch 39/100\n",
      "62/62 [==============================] - 5s 79ms/step - loss: 9.3617e-04\n",
      "Epoch 40/100\n",
      "62/62 [==============================] - 5s 82ms/step - loss: 8.9104e-04\n",
      "Epoch 41/100\n",
      "62/62 [==============================] - 5s 81ms/step - loss: 9.4650e-04\n",
      "Epoch 42/100\n",
      "62/62 [==============================] - 5s 79ms/step - loss: 0.0011\n",
      "Epoch 43/100\n",
      "62/62 [==============================] - 5s 79ms/step - loss: 0.0010\n",
      "Epoch 44/100\n",
      "62/62 [==============================] - 5s 80ms/step - loss: 9.1529e-04\n",
      "Epoch 45/100\n",
      "62/62 [==============================] - 5s 80ms/step - loss: 8.5975e-04\n",
      "Epoch 46/100\n",
      "62/62 [==============================] - 5s 80ms/step - loss: 9.2618e-04\n",
      "Epoch 47/100\n",
      "62/62 [==============================] - 5s 81ms/step - loss: 8.6522e-04\n",
      "Epoch 48/100\n",
      "62/62 [==============================] - 5s 80ms/step - loss: 9.9731e-04\n",
      "Epoch 49/100\n",
      "62/62 [==============================] - 5s 85ms/step - loss: 0.0011\n",
      "Epoch 50/100\n",
      "62/62 [==============================] - 6s 93ms/step - loss: 7.5447e-04\n",
      "Epoch 51/100\n",
      "62/62 [==============================] - 5s 83ms/step - loss: 8.4931e-04\n",
      "Epoch 52/100\n",
      "62/62 [==============================] - 5s 81ms/step - loss: 8.1886e-04\n",
      "Epoch 53/100\n",
      "62/62 [==============================] - 5s 81ms/step - loss: 7.6718e-04\n",
      "Epoch 54/100\n",
      "62/62 [==============================] - 5s 83ms/step - loss: 8.5318e-04\n",
      "Epoch 55/100\n",
      "62/62 [==============================] - 6s 94ms/step - loss: 7.9252e-04\n",
      "Epoch 56/100\n",
      "62/62 [==============================] - 6s 92ms/step - loss: 7.2862e-04\n",
      "Epoch 57/100\n",
      "62/62 [==============================] - 6s 91ms/step - loss: 7.9549e-04\n",
      "Epoch 58/100\n",
      "62/62 [==============================] - 6s 88ms/step - loss: 8.5111e-04\n",
      "Epoch 59/100\n",
      "62/62 [==============================] - 5s 87ms/step - loss: 7.0577e-04\n",
      "Epoch 60/100\n",
      "62/62 [==============================] - 6s 95ms/step - loss: 8.0576e-04\n",
      "Epoch 61/100\n",
      "62/62 [==============================] - 6s 91ms/step - loss: 7.9989e-04\n",
      "Epoch 62/100\n",
      "62/62 [==============================] - 6s 89ms/step - loss: 8.5588e-04\n",
      "Epoch 63/100\n",
      "62/62 [==============================] - 5s 83ms/step - loss: 7.2568e-04\n",
      "Epoch 64/100\n",
      "62/62 [==============================] - 5s 80ms/step - loss: 6.8241e-04\n",
      "Epoch 65/100\n",
      "62/62 [==============================] - 5s 80ms/step - loss: 0.0010\n",
      "Epoch 66/100\n",
      "62/62 [==============================] - 5s 80ms/step - loss: 7.4027e-04\n",
      "Epoch 67/100\n",
      "62/62 [==============================] - 5s 81ms/step - loss: 7.6844e-04\n",
      "Epoch 68/100\n",
      "62/62 [==============================] - 5s 82ms/step - loss: 7.3491e-04\n",
      "Epoch 69/100\n",
      "62/62 [==============================] - 5s 81ms/step - loss: 7.3326e-04\n",
      "Epoch 70/100\n",
      "62/62 [==============================] - 5s 81ms/step - loss: 6.4644e-04\n",
      "Epoch 71/100\n",
      "62/62 [==============================] - 5s 81ms/step - loss: 7.4384e-04\n",
      "Epoch 72/100\n",
      "62/62 [==============================] - 5s 82ms/step - loss: 6.6514e-04\n",
      "Epoch 73/100\n",
      "62/62 [==============================] - 5s 82ms/step - loss: 7.7479e-04\n",
      "Epoch 74/100\n",
      "62/62 [==============================] - 5s 81ms/step - loss: 6.9205e-04\n",
      "Epoch 75/100\n",
      "62/62 [==============================] - 5s 84ms/step - loss: 6.6965e-04\n",
      "Epoch 76/100\n",
      "62/62 [==============================] - 5s 84ms/step - loss: 6.5152e-04\n",
      "Epoch 77/100\n",
      "62/62 [==============================] - 5s 81ms/step - loss: 7.1480e-04\n",
      "Epoch 78/100\n",
      "62/62 [==============================] - 5s 81ms/step - loss: 6.4358e-04\n",
      "Epoch 79/100\n",
      "62/62 [==============================] - 5s 81ms/step - loss: 7.1542e-04\n",
      "Epoch 80/100\n",
      "62/62 [==============================] - 5s 81ms/step - loss: 7.3472e-04\n",
      "Epoch 81/100\n",
      "62/62 [==============================] - 5s 82ms/step - loss: 6.2223e-04\n",
      "Epoch 82/100\n",
      "62/62 [==============================] - 5s 81ms/step - loss: 6.2335e-04\n",
      "Epoch 83/100\n",
      "62/62 [==============================] - 5s 82ms/step - loss: 6.7084e-04\n",
      "Epoch 84/100\n",
      "62/62 [==============================] - 5s 80ms/step - loss: 7.2644e-04\n",
      "Epoch 85/100\n",
      "62/62 [==============================] - 5s 81ms/step - loss: 6.9775e-04\n",
      "Epoch 86/100\n",
      "62/62 [==============================] - 5s 81ms/step - loss: 6.3047e-04\n",
      "Epoch 87/100\n",
      "62/62 [==============================] - 5s 82ms/step - loss: 7.6542e-04\n",
      "Epoch 88/100\n",
      "62/62 [==============================] - 5s 81ms/step - loss: 5.9221e-04\n",
      "Epoch 89/100\n",
      "62/62 [==============================] - 5s 81ms/step - loss: 7.0236e-04\n",
      "Epoch 90/100\n",
      "62/62 [==============================] - 5s 82ms/step - loss: 6.6209e-04\n",
      "Epoch 91/100\n",
      "62/62 [==============================] - 5s 81ms/step - loss: 6.0252e-04\n",
      "Epoch 92/100\n",
      "62/62 [==============================] - 5s 83ms/step - loss: 5.6175e-04\n",
      "Epoch 93/100\n",
      "62/62 [==============================] - 5s 82ms/step - loss: 6.5163e-04\n",
      "Epoch 94/100\n",
      "62/62 [==============================] - 5s 81ms/step - loss: 5.7597e-04\n",
      "Epoch 95/100\n",
      "62/62 [==============================] - 5s 81ms/step - loss: 6.3301e-04\n",
      "Epoch 96/100\n",
      "62/62 [==============================] - 5s 81ms/step - loss: 6.5948e-04\n",
      "Epoch 97/100\n",
      "62/62 [==============================] - 5s 81ms/step - loss: 5.5415e-04\n",
      "Epoch 98/100\n"
     ]
    },
    {
     "name": "stdout",
     "output_type": "stream",
     "text": [
      "62/62 [==============================] - 5s 81ms/step - loss: 6.4136e-04\n",
      "Epoch 99/100\n",
      "62/62 [==============================] - 5s 80ms/step - loss: 7.2239e-04\n",
      "Epoch 100/100\n",
      "62/62 [==============================] - 5s 79ms/step - loss: 6.7365e-04\n"
     ]
    },
    {
     "data": {
      "text/plain": [
       "<keras.callbacks.History at 0x1b026ed6730>"
      ]
     },
     "execution_count": 18,
     "metadata": {},
     "output_type": "execute_result"
    }
   ],
   "source": [
    "model = Sequential()\n",
    "model.add(LSTM(units=50,return_sequences=True,input_shape=(X_train.shape[1], 1)))\n",
    "model.add(Dropout(0.2))\n",
    "model.add(LSTM(units=50,return_sequences=True))\n",
    "model.add(Dropout(0.2))\n",
    "model.add(LSTM(units=50,return_sequences=True))\n",
    "model.add(Dropout(0.2))\n",
    "model.add(LSTM(units=50))\n",
    "model.add(Dropout(0.2))\n",
    "model.add(Dense(units=1))\n",
    "model.compile(optimizer='adam',loss='mean_squared_error')\n",
    "model.fit(X_train,y_train,epochs=100,batch_size=32)"
   ]
  },
  {
   "cell_type": "markdown",
   "id": "6a6d92a8",
   "metadata": {},
   "source": [
    "## Making Predictions on Test Set"
   ]
  },
  {
   "cell_type": "code",
   "execution_count": 19,
   "id": "7f17569e",
   "metadata": {},
   "outputs": [],
   "source": [
    "url = 'https://raw.githubusercontent.com/mwitiderrick/stockprice/master/tatatest.csv'\n",
    "dataset_test = pd.read_csv(url)\n",
    "real_stock_price = dataset_test.iloc[:, 1:2].values"
   ]
  },
  {
   "cell_type": "code",
   "execution_count": 22,
   "id": "24ed5ac6",
   "metadata": {},
   "outputs": [
    {
     "name": "stdout",
     "output_type": "stream",
     "text": [
      "1/1 [==============================] - 0s 46ms/step\n"
     ]
    }
   ],
   "source": [
    "dataset_total = pd.concat((dataset_train['Open'], dataset_test['Open']), axis=0)\n",
    "inputs = dataset_total[len(dataset_total) - len(dataset_test) - 60:].values\n",
    "inputs = inputs.reshape(-1, 1)\n",
    "inputs = sc.transform(inputs)\n",
    "X_test = []\n",
    "\n",
    "for i in range(60, 76):\n",
    "    X_test.append(inputs[i-60:i, 0])\n",
    "\n",
    "X_test = np.array(X_test)\n",
    "X_test = np.reshape(X_test, (X_test.shape[0], X_test.shape[1], 1))\n",
    "\n",
    "predicted_stock_price = model.predict(X_test)\n",
    "predicted_stock_price = sc.inverse_transform(predicted_stock_price)\n"
   ]
  },
  {
   "cell_type": "markdown",
   "id": "e961b57c",
   "metadata": {},
   "source": [
    "## Plotting the Results"
   ]
  },
  {
   "cell_type": "code",
   "execution_count": 23,
   "id": "49053237",
   "metadata": {},
   "outputs": [
    {
     "data": {
      "image/png": "[encoded data removed]",
      "text/plain": [
       "<Figure size 432x288 with 1 Axes>"
      ]
     },
     "metadata": {
      "needs_background": "light"
     },
     "output_type": "display_data"
    }
   ],
   "source": [
    "plt.plot(real_stock_price, color = 'black', label = 'TATA Stock Price')\n",
    "plt.plot(predicted_stock_price, color = 'green', label = 'Predicted TATA Stock Price')\n",
    "plt.title('TATA Stock Price Prediction')\n",
    "plt.xlabel('Time')\n",
    "plt.ylabel('TATA Stock Price')\n",
    "plt.legend()\n",
    "plt.show()"
   ]
  },
  {
   "cell_type": "code",
   "execution_count": null,
   "id": "abf60192",
   "metadata": {},
   "outputs": [],
   "source": []
  }
 ],
 "metadata": {
  "kernelspec": {
   "display_name": "Python 3 (ipykernel)",
   "language": "python",
   "name": "python3"
  },
  "language_info": {
   "codemirror_mode": {
    "name": "ipython",
    "version": 3
   },
   "file_extension": ".py",
   "mimetype": "text/x-python",
   "name": "python",
   "nbconvert_exporter": "python",
   "pygments_lexer": "ipython3",
   "version": "3.9.7"
  }
 },
 "nbformat": 4,
 "nbformat_minor": 5
}
